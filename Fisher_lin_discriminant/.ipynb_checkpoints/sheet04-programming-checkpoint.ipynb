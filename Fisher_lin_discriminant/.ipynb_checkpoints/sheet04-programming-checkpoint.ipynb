{
 "cells": [
  {
   "cell_type": "markdown",
   "metadata": {},
   "source": [
    "# Fisher Linear Discriminant\n",
    "\n",
    "In this exercise, we apply Fisher Linear Discriminant as described in Chapter 3.8.2 of Duda et al. on the UCI Abalone dataset. A description of the dataset is given at the page https://archive.ics.uci.edu/ml/datasets/Abalone. The following two methods are provided for your convenience: \n",
    "\n",
    "\n",
    "* **`utils.Abalone.__init__(self)`** reads the Abalone data and instantiates two data matrices corresponding to: *infant (I)*, *non-infant (N)*.\n",
    "\n",
    "\n",
    "* **`utils.Abalone.plot(self,w)`** produces a histogram of the data when projected onto a vector `w`, and where each class is shown in a different color.\n",
    "\n",
    "\n",
    "Sample code that makes use of these two methods is given below. It loads the data, looks at the shape of instantiated matrices, and plots the projection on the first dimension of the data representing the length of the abalone."
   ]
  },
  {
   "cell_type": "code",
   "execution_count": 1,
   "metadata": {},
   "outputs": [
    {
     "name": "stdout",
     "output_type": "stream",
     "text": [
      "(1342, 7) (2835, 7)\n"
     ]
    },
    {
     "data": {
      "image/png": "[encoded data removed]",
      "text/plain": [
       "<Figure size 432x144 with 1 Axes>"
      ]
     },
     "metadata": {
      "needs_background": "light"
     },
     "output_type": "display_data"
    }
   ],
   "source": [
    "%matplotlib inline\n",
    "import utils\n",
    "import numpy as np\n",
    "\n",
    "# Load the data\n",
    "abalone = utils.Abalone()\n",
    "\n",
    "# Print dataset size for each class\n",
    "print(abalone.I.shape, abalone.N.shape)\n",
    "\n",
    "# Project data on the first dimension\n",
    "w1 = np.array([1,0,0,0,0,0,0])\n",
    "abalone.plot(w1,'projection on the first dimension (length)')\n"
   ]
  },
  {
   "cell_type": "markdown",
   "metadata": {},
   "source": [
    "## Implementation (10 + 5 + 5 = 20 P)\n",
    "\n",
    "* **Create a function `w = fisher(X1,X2)` that takes as input the data for two classes and returns the Fisher linear discriminant.**\n",
    "\n",
    "\n",
    "* **Create a function `objective(X1,X2,w)` that evaluates the objective defined in Equation 96 of Duda et al. for an arbitrary projection vector `w`.**\n",
    "\n",
    "\n",
    "* **Create a function `z = phi(X)` that returns a quadratic expansion for each data point `x` in the dataset. Such expansion consists of the vector `x` itself, to which we concatenate the vector of all pairwise products between elements of `x`.** In other words, letting $x = (x_1,\\dots,x_d)$ denote the $d$-dimensional data point, the quadratic expansion for this data point is a $d \\cdot (d+3)/2$ dimensional vector given by $\\phi(x) = (x_i)_{1 \\leq i \\leq d} \\cup (x_i x_j)_{1 \\leq i \\leq j \\leq d}$. For example, the quadratic expansion for $d=2$ is $(x_1,x_2,x_1^2,x_2^2,x_1 x_2)$."
   ]
  },
  {
   "cell_type": "code",
   "execution_count": 24,
   "metadata": {},
   "outputs": [],
   "source": [
    "import scipy.linalg\n",
    "def fisher(X1,X2):\n",
    "    m1 = np.mean(X1, axis=0)\n",
    "    m1 = np.reshape(m1, (-1 ,1))\n",
    "    m2 = np.mean(X2, axis=0)\n",
    "    m2 = np.reshape(m2, (-1,1))\n",
    "    \n",
    "    S_B = (m2 - m1)@((m2 -m1).T)\n",
    "    s1 = np.cov(X1.T)\n",
    "    s2 = np.cov(X2.T)\n",
    "    S_W = s1 + s2\n",
    "    print(scipy.linalg.solve(S_B, S_W))\n",
    "    return 1\n",
    "    \n",
    "def objective(X1,X2,w):\n",
    "    w = np.reshape(w, (-1,1)) \n",
    "    m1 = np.mean(X1, axis=0)\n",
    "    m1 = np.reshape(m1, (-1,1))\n",
    "    m1_tilda = w.T @ m1\n",
    "    m2 = np.mean(X2, axis=0)\n",
    "    m2 = np.reshape(m2, (-1,1))\n",
    "    m2_tilda = w.T @ m2\n",
    "    \n",
    "    s1=0\n",
    "    for i in X1:\n",
    "        i = np.reshape(i, (7,1))\n",
    "        s1 += (w.T @ i - m1_tilda)**2\n",
    "    s2=0\n",
    "    for i in X2:\n",
    "        i = np.reshape(i, (7,1))\n",
    "        s2 += (w.T @ i - m2_tilda)**2\n",
    "    s1 = np.sum((w.T@X1.T- m1_tilda)**2)\n",
    "    s2 = np.sum((w.T@X2.T- m2_tilda)**2)\n",
    "    return np.absolute(m1_tilda-m2_tilda)**2/(s1+s2)\n",
    "\n",
    "import itertools\n",
    "    \n",
    "def expand1(X):\n",
    "    X_new = []\n",
    "    for i in X:\n",
    "        x_adder = list(itertools.product(i, repeat= 2))\n",
    "        x_new = np.append(i, x_adder)\n",
    "        X_new.append(x_new)\n",
    "    return np.array(X_new)\n",
    "\n",
    "\n",
    "        \n",
    "        "
   ]
  },
  {
   "cell_type": "markdown",
   "metadata": {},
   "source": [
    "### PAR GREGOIRE!"
   ]
  },
  {
   "cell_type": "code",
   "execution_count": 25,
   "metadata": {},
   "outputs": [],
   "source": [
    "def SW(X):\n",
    "    Z = X-X.mean(axis=0)\n",
    "    return np.dot(Z.T, Z) #This is the covariance matrix without scaling by 1/N\n",
    "\n",
    "def fisher(X1,X2):\n",
    "    sw = SW(X1) + SW(X2)\n",
    "    diff_means = X2.mean(axis=0) - X1.mean(axis=0)\n",
    "    w = np.linalg.inv(sw).dot(diff_means)\n",
    "    w /= (w**2).sum()**0.5 # optional normalisation\n",
    "    return w\n",
    "\n",
    "def objective(X1,X2,w):\n",
    "    sw = SW(X1) + SW(X2)\n",
    "    diff_means = X2.mean(axis=0) - X1.mean(axis=0)\n",
    "    wSBw = (w.dot(diff_means))**2\n",
    "    wSWw = (sw.dot(w).dot(w))\n",
    "    return wSBw/wSWw\n",
    "\n",
    "def expand(X):\n",
    "    ind = np.triu_indices(X.shape[1])\n",
    "    X = np.array([ np.concatenate([x, np.outer(x,x)[ind]]) for x in X])\n",
    "    return X\n",
    "\n",
    "\n"
   ]
  },
  {
   "cell_type": "markdown",
   "metadata": {},
   "source": [
    "## Analysis (5 + 5 = 10 P)\n",
    "\n",
    "* **Print value of the objective function and the histogram for several values of `w`:**\n",
    "\n",
    "  * `w` is a canonical coordinate vector for the first feature (length).\n",
    "  * `w` is the difference between the mean vectors of the two classes.\n",
    "  * `w` is the Fisher linear discriminant.\n",
    "  * `w` is the Fisher linear discriminant (after quadratic expansion of the data)."
   ]
  },
  {
   "cell_type": "code",
   "execution_count": 26,
   "metadata": {},
   "outputs": [],
   "source": [
    "# %matplotlib inline\n",
    "\n",
    "# XI = abalone.I\n",
    "# XN = abalone.N\n",
    "\n",
    "# w_canonical_length = np.array([1,0,0,0,0,0,0])\n",
    "# w_mean = np.mean(XN, axis=0) - np.mean(XI, axis=0)\n",
    "# w_fisher = fisher(XI, XN)\n",
    "# w_fisher_quad = fisher(expand(XI), expand(XN))\n",
    "\n",
    "# print(objective(XI, XN, w_canonical_length))\n",
    "# abalone.plot(w_canonical_length,'projection on w_canonical_length')\n",
    "\n",
    "# print(objective(XI, XN, w_mean))\n",
    "# abalone.plot(w_mean,'projection on w_mean')\n",
    "\n",
    "# print(w_fisher.shape)\n",
    "# print(objective(XI, XN, w_fisher))\n",
    "# abalone.plot(w_fisher,'projection on w_fisher')\n",
    "\n",
    "# print(objective(XI, XN, w_fisher_quad))\n",
    "# abalone.plot(w_mean,'projection on w_fisher_quad')"
   ]
  },
  {
   "cell_type": "code",
   "execution_count": null,
   "metadata": {},
   "outputs": [],
   "source": []
  },
  {
   "cell_type": "code",
   "execution_count": 27,
   "metadata": {},
   "outputs": [
    {
     "name": "stdout",
     "output_type": "stream",
     "text": [
      "0.00047979575003284755\n"
     ]
    },
    {
     "data": {
      "image/png": "[encoded data removed]",
      "text/plain": [
       "<Figure size 432x144 with 1 Axes>"
      ]
     },
     "metadata": {
      "needs_background": "light"
     },
     "output_type": "display_data"
    },
    {
     "name": "stdout",
     "output_type": "stream",
     "text": [
      "0.0004995753519750719\n"
     ]
    },
    {
     "data": {
      "image/png": "[encoded data removed]",
      "text/plain": [
       "<Figure size 432x144 with 1 Axes>"
      ]
     },
     "metadata": {
      "needs_background": "light"
     },
     "output_type": "display_data"
    },
    {
     "name": "stdout",
     "output_type": "stream",
     "text": [
      "0.0005691815990406673\n"
     ]
    },
    {
     "data": {
      "image/png": "[encoded data removed]",
      "text/plain": [
       "<Figure size 432x144 with 1 Axes>"
      ]
     },
     "metadata": {
      "needs_background": "light"
     },
     "output_type": "display_data"
    },
    {
     "name": "stdout",
     "output_type": "stream",
     "text": [
      "0.0007660025003514742\n"
     ]
    },
    {
     "data": {
      "image/png": "[encoded data removed]",
      "text/plain": [
       "<Figure size 432x144 with 1 Axes>"
      ]
     },
     "metadata": {
      "needs_background": "light"
     },
     "output_type": "display_data"
    }
   ],
   "source": [
    "data = utils.Abalone()\n",
    "\n",
    "w = np.array([1,0,0,0,0,0,0])\n",
    "\n",
    "print(objective(data.I, data.N, w))\n",
    "data.plot(w, 'Length')\n",
    "\n",
    "w = data.N.mean(axis=0) - data.I.mean(axis=0)\n",
    "\n",
    "print(objective(data.I, data.N, w))\n",
    "data.plot(w, 'Mean diff')\n",
    "\n",
    "\n",
    "w = fisher(data.I, data.N)\n",
    "\n",
    "print(objective(data.I, data.N, w))\n",
    "data.plot(w, 'Fisher')\n",
    "\n",
    "# quick and dirty hack of changing data but we should have another instantisation\n",
    "\n",
    "w = fisher(expand(data.I), expand(data.N))\n",
    "\n",
    "print(objective(expand(data.I), expand(data.N), w))\n",
    "\n",
    "data.I = expand(data.I)\n",
    "data.N = expand(data.N)\n",
    "data.plot(w, 'Fisher')"
   ]
  },
  {
   "cell_type": "code",
   "execution_count": 30,
   "metadata": {},
   "outputs": [
    {
     "ename": "AssertionError",
     "evalue": "\nNot equal to tolerance rtol=1e-07, atol=0\n\n(shapes (1342, 35), (1342, 105) mismatch)\n x: array([[0.33    , 0.255   , 0.08    , ..., 0.00156 , 0.002172, 0.003025],\n       [0.425   , 0.3     , 0.095   , ..., 0.006006, 0.0093  , 0.0144  ],\n       [0.355   , 0.28    , 0.085   , ..., 0.00156 , 0.004543, 0.013225],...\n y: array([[0.33  , 0.255 , 0.08  , ..., 0.0395, 0.055 , 0.055 ],\n       [0.425 , 0.3   , 0.095 , ..., 0.0775, 0.12  , 0.12  ],\n       [0.355 , 0.28  , 0.085 , ..., 0.0395, 0.115 , 0.115 ],...",
     "output_type": "error",
     "traceback": [
      "\u001b[1;31m---------------------------------------------------------------------------\u001b[0m",
      "\u001b[1;31mAssertionError\u001b[0m                            Traceback (most recent call last)",
      "\u001b[1;32mC:\\Users\\INGIMA~1\\AppData\\Local\\Temp/ipykernel_3120/3225183047.py\u001b[0m in \u001b[0;36m<module>\u001b[1;34m\u001b[0m\n\u001b[1;32m----> 1\u001b[1;33m \u001b[0mnp\u001b[0m\u001b[1;33m.\u001b[0m\u001b[0mtesting\u001b[0m\u001b[1;33m.\u001b[0m\u001b[0massert_allclose\u001b[0m\u001b[1;33m(\u001b[0m\u001b[0mexpand\u001b[0m\u001b[1;33m(\u001b[0m\u001b[0mXI\u001b[0m\u001b[1;33m)\u001b[0m\u001b[1;33m,\u001b[0m \u001b[0mexpand1\u001b[0m\u001b[1;33m(\u001b[0m\u001b[0mXI\u001b[0m\u001b[1;33m)\u001b[0m\u001b[1;33m)\u001b[0m\u001b[1;33m\u001b[0m\u001b[1;33m\u001b[0m\u001b[0m\n\u001b[0m",
      "    \u001b[1;31m[... skipping hidden 1 frame]\u001b[0m\n",
      "\u001b[1;32m~\\anaconda3\\envs\\ML1\\lib\\site-packages\\numpy\\testing\\_private\\utils.py\u001b[0m in \u001b[0;36massert_array_compare\u001b[1;34m(comparison, x, y, err_msg, verbose, header, precision, equal_nan, equal_inf)\u001b[0m\n\u001b[0;32m    761\u001b[0m                                 \u001b[0mverbose\u001b[0m\u001b[1;33m=\u001b[0m\u001b[0mverbose\u001b[0m\u001b[1;33m,\u001b[0m \u001b[0mheader\u001b[0m\u001b[1;33m=\u001b[0m\u001b[0mheader\u001b[0m\u001b[1;33m,\u001b[0m\u001b[1;33m\u001b[0m\u001b[1;33m\u001b[0m\u001b[0m\n\u001b[0;32m    762\u001b[0m                                 names=('x', 'y'), precision=precision)\n\u001b[1;32m--> 763\u001b[1;33m             \u001b[1;32mraise\u001b[0m \u001b[0mAssertionError\u001b[0m\u001b[1;33m(\u001b[0m\u001b[0mmsg\u001b[0m\u001b[1;33m)\u001b[0m\u001b[1;33m\u001b[0m\u001b[1;33m\u001b[0m\u001b[0m\n\u001b[0m\u001b[0;32m    764\u001b[0m \u001b[1;33m\u001b[0m\u001b[0m\n\u001b[0;32m    765\u001b[0m         \u001b[0mflagged\u001b[0m \u001b[1;33m=\u001b[0m \u001b[0mbool_\u001b[0m\u001b[1;33m(\u001b[0m\u001b[1;32mFalse\u001b[0m\u001b[1;33m)\u001b[0m\u001b[1;33m\u001b[0m\u001b[1;33m\u001b[0m\u001b[0m\n",
      "\u001b[1;31mAssertionError\u001b[0m: \nNot equal to tolerance rtol=1e-07, atol=0\n\n(shapes (1342, 35), (1342, 105) mismatch)\n x: array([[0.33    , 0.255   , 0.08    , ..., 0.00156 , 0.002172, 0.003025],\n       [0.425   , 0.3     , 0.095   , ..., 0.006006, 0.0093  , 0.0144  ],\n       [0.355   , 0.28    , 0.085   , ..., 0.00156 , 0.004543, 0.013225],...\n y: array([[0.33  , 0.255 , 0.08  , ..., 0.0395, 0.055 , 0.055 ],\n       [0.425 , 0.3   , 0.095 , ..., 0.0775, 0.12  , 0.12  ],\n       [0.355 , 0.28  , 0.085 , ..., 0.0395, 0.115 , 0.115 ],..."
     ]
    }
   ],
   "source": [
    "np.testing.assert_allclose(expand(XI), expand1(XI))"
   ]
  },
  {
   "cell_type": "code",
   "execution_count": 35,
   "metadata": {},
   "outputs": [],
   "source": [
    "hi = np.array([[1,2,3]])"
   ]
  },
  {
   "cell_type": "code",
   "execution_count": 36,
   "metadata": {},
   "outputs": [
    {
     "name": "stdout",
     "output_type": "stream",
     "text": [
      "[[1 2 3 1 2 3 4 6 9]]\n"
     ]
    }
   ],
   "source": []
  },
  {
   "cell_type": "code",
   "execution_count": 37,
   "metadata": {},
   "outputs": [
    {
     "name": "stdout",
     "output_type": "stream",
     "text": [
      "[[1 2 3 1 1 1 2 1 3 2 1 2 2 2 3 3 1 3 2 3 3]]\n"
     ]
    }
   ],
   "source": []
  },
  {
   "cell_type": "code",
   "execution_count": null,
   "metadata": {},
   "outputs": [],
   "source": []
  }
 ],
 "metadata": {
  "kernelspec": {
   "display_name": "Python 3 (ipykernel)",
   "language": "python",
   "name": "python3"
  },
  "language_info": {
   "codemirror_mode": {
    "name": "ipython",
    "version": 3
   },
   "file_extension": ".py",
   "mimetype": "text/x-python",
   "name": "python",
   "nbconvert_exporter": "python",
   "pygments_lexer": "ipython3",
   "version": "3.9.7"
  }
 },
 "nbformat": 4,
 "nbformat_minor": 1
}
